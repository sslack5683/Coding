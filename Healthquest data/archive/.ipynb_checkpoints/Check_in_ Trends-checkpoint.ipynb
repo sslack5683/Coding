{
 "cells": [
  {
   "cell_type": "markdown",
   "metadata": {},
   "source": [
    "# Finding the memebers trending down"
   ]
  },
  {
   "cell_type": "markdown",
   "metadata": {},
   "source": [
    "Project objectives:\n",
    "\n",
    "-Find members that are trending downward in checkin's week by week\n",
    "\n",
    "-use statistical analysis to find if the group of members found is truly different than the overall groups\n",
    "\n"
   ]
  },
  {
   "cell_type": "markdown",
   "metadata": {},
   "source": [
    "### Import python libraries needed in this project "
   ]
  },
  {
   "cell_type": "code",
   "execution_count": 1,
   "metadata": {},
   "outputs": [],
   "source": [
    "import pandas as pd #data minipulation\n",
    "import numpy as np #linear algebra\n",
    "from matplotlib import pyplot as plt #graphing\n",
    "import seaborn as sns #advanced graphing\n",
    "from scipy.stats import ttest_ind #2 sample t-test\n",
    "from sklearn.model_selection import train_test_split #machine learning split for prediction\n",
    "from sklearn.linear_model import LinearRegression #seeing if we can predict the trend with a straight line"
   ]
  },
  {
   "cell_type": "markdown",
   "metadata": {},
   "source": [
    "### Get the data and see what its made up of"
   ]
  },
  {
   "cell_type": "code",
   "execution_count": 2,
   "metadata": {},
   "outputs": [
    {
     "name": "stdout",
     "output_type": "stream",
     "text": [
      "<class 'pandas.core.frame.DataFrame'>\n",
      "RangeIndex: 47178 entries, 0 to 47177\n",
      "Data columns (total 7 columns):\n",
      " #   Column             Non-Null Count  Dtype \n",
      "---  ------             --------------  ----- \n",
      " 0   First name         47178 non-null  object\n",
      " 1   Last name          47178 non-null  object\n",
      " 2   Date               47178 non-null  object\n",
      " 3   Time in            47178 non-null  object\n",
      " 4   Check-in Location  47178 non-null  object\n",
      " 5   User Group Name    47178 non-null  object\n",
      " 6   User Group Status  47178 non-null  object\n",
      "dtypes: object(7)\n",
      "memory usage: 2.5+ MB\n"
     ]
    }
   ],
   "source": [
    "df = pd.read_csv('report-02-28-2021.csv')\n",
    "df.info()"
   ]
  },
  {
   "cell_type": "markdown",
   "metadata": {},
   "source": [
    "We can see that there is two primary issues while looking at the info function.\n",
    "\n",
    "-The date column is an object\n",
    "\n",
    "-The Time in column is an object\n"
   ]
  },
  {
   "cell_type": "code",
   "execution_count": 3,
   "metadata": {},
   "outputs": [
    {
     "data": {
      "text/html": [
       "<div>\n",
       "<style scoped>\n",
       "    .dataframe tbody tr th:only-of-type {\n",
       "        vertical-align: middle;\n",
       "    }\n",
       "\n",
       "    .dataframe tbody tr th {\n",
       "        vertical-align: top;\n",
       "    }\n",
       "\n",
       "    .dataframe thead th {\n",
       "        text-align: right;\n",
       "    }\n",
       "</style>\n",
       "<table border=\"1\" class=\"dataframe\">\n",
       "  <thead>\n",
       "    <tr style=\"text-align: right;\">\n",
       "      <th></th>\n",
       "      <th>First name</th>\n",
       "      <th>Last name</th>\n",
       "      <th>Date</th>\n",
       "      <th>Time in</th>\n",
       "      <th>Check-in Location</th>\n",
       "      <th>User Group Name</th>\n",
       "      <th>User Group Status</th>\n",
       "    </tr>\n",
       "  </thead>\n",
       "  <tbody>\n",
       "    <tr>\n",
       "      <th>count</th>\n",
       "      <td>47178</td>\n",
       "      <td>47178</td>\n",
       "      <td>47178</td>\n",
       "      <td>47178</td>\n",
       "      <td>47178</td>\n",
       "      <td>47178</td>\n",
       "      <td>47178</td>\n",
       "    </tr>\n",
       "    <tr>\n",
       "      <th>unique</th>\n",
       "      <td>967</td>\n",
       "      <td>1408</td>\n",
       "      <td>58</td>\n",
       "      <td>1020</td>\n",
       "      <td>1</td>\n",
       "      <td>31</td>\n",
       "      <td>4</td>\n",
       "    </tr>\n",
       "    <tr>\n",
       "      <th>top</th>\n",
       "      <td>Michael</td>\n",
       "      <td>Murphy</td>\n",
       "      <td>2/23/2021</td>\n",
       "      <td>5:00 AM</td>\n",
       "      <td>Front Desk</td>\n",
       "      <td>Adult Membership</td>\n",
       "      <td>Active</td>\n",
       "    </tr>\n",
       "    <tr>\n",
       "      <th>freq</th>\n",
       "      <td>889</td>\n",
       "      <td>297</td>\n",
       "      <td>1066</td>\n",
       "      <td>187</td>\n",
       "      <td>47178</td>\n",
       "      <td>5583</td>\n",
       "      <td>37163</td>\n",
       "    </tr>\n",
       "  </tbody>\n",
       "</table>\n",
       "</div>"
      ],
      "text/plain": [
       "       First name Last name       Date  Time in Check-in Location  \\\n",
       "count       47178     47178      47178    47178             47178   \n",
       "unique        967      1408         58     1020                 1   \n",
       "top       Michael    Murphy  2/23/2021  5:00 AM        Front Desk   \n",
       "freq          889       297       1066      187             47178   \n",
       "\n",
       "         User Group Name User Group Status  \n",
       "count              47178             47178  \n",
       "unique                31                 4  \n",
       "top     Adult Membership            Active  \n",
       "freq                5583             37163  "
      ]
     },
     "execution_count": 3,
     "metadata": {},
     "output_type": "execute_result"
    }
   ],
   "source": [
    "df.describe()"
   ]
  },
  {
   "cell_type": "markdown",
   "metadata": {},
   "source": [
    "Here are the primary insights from this function:\n",
    "\n",
    "-there is no real column key we can rely on (last name or first name). We can combine them to create a unique key for each member (assuming no two mebers have the same first name and last name.\n",
    "\n",
    "-There is 31 membership types"
   ]
  },
  {
   "cell_type": "markdown",
   "metadata": {},
   "source": [
    "### Cleaning Data "
   ]
  },
  {
   "cell_type": "markdown",
   "metadata": {},
   "source": [
    "Now, I will create the table key by combining the first and last name"
   ]
  },
  {
   "cell_type": "code",
   "execution_count": 4,
   "metadata": {},
   "outputs": [
    {
     "data": {
      "text/plain": [
       "Index(['First name', 'Last name', 'Date', 'Time in', 'Check-in Location',\n",
       "       'User Group Name', 'User Group Status', 'Name'],\n",
       "      dtype='object')"
      ]
     },
     "execution_count": 4,
     "metadata": {},
     "output_type": "execute_result"
    }
   ],
   "source": [
    "df['Name'] = df['First name']+ ' ' + df['Last name']\n",
    "df.columns"
   ]
  },
  {
   "cell_type": "markdown",
   "metadata": {},
   "source": [
    "Next, Lets turn the date and time in to datetime data types"
   ]
  },
  {
   "cell_type": "code",
   "execution_count": 5,
   "metadata": {},
   "outputs": [
    {
     "name": "stdout",
     "output_type": "stream",
     "text": [
      "<class 'pandas.core.frame.DataFrame'>\n",
      "RangeIndex: 47178 entries, 0 to 47177\n",
      "Data columns (total 8 columns):\n",
      " #   Column             Non-Null Count  Dtype         \n",
      "---  ------             --------------  -----         \n",
      " 0   First name         47178 non-null  object        \n",
      " 1   Last name          47178 non-null  object        \n",
      " 2   Date               47178 non-null  datetime64[ns]\n",
      " 3   Time in            47178 non-null  datetime64[ns]\n",
      " 4   Check-in Location  47178 non-null  object        \n",
      " 5   User Group Name    47178 non-null  object        \n",
      " 6   User Group Status  47178 non-null  object        \n",
      " 7   Name               47178 non-null  object        \n",
      "dtypes: datetime64[ns](2), object(6)\n",
      "memory usage: 2.9+ MB\n"
     ]
    }
   ],
   "source": [
    "df.Date = pd.to_datetime(df.Date)\n",
    "df['Time in'] = pd.to_datetime(df['Time in'])\n",
    "df.info()"
   ]
  },
  {
   "cell_type": "markdown",
   "metadata": {},
   "source": [
    "From datetime we can now pull out month day and hour into their own specific columns"
   ]
  },
  {
   "cell_type": "code",
   "execution_count": 6,
   "metadata": {},
   "outputs": [],
   "source": [
    "df['Month'] = df.Date.dt.month\n",
    "df['Day'] = df.Date.dt.day\n",
    "df['Hour'] = df['Time in'].dt.hour"
   ]
  },
  {
   "cell_type": "markdown",
   "metadata": {},
   "source": [
    "Last, we call only the columns we want for a new dataset."
   ]
  },
  {
   "cell_type": "code",
   "execution_count": 7,
   "metadata": {},
   "outputs": [
    {
     "data": {
      "text/html": [
       "<div>\n",
       "<style scoped>\n",
       "    .dataframe tbody tr th:only-of-type {\n",
       "        vertical-align: middle;\n",
       "    }\n",
       "\n",
       "    .dataframe tbody tr th {\n",
       "        vertical-align: top;\n",
       "    }\n",
       "\n",
       "    .dataframe thead th {\n",
       "        text-align: right;\n",
       "    }\n",
       "</style>\n",
       "<table border=\"1\" class=\"dataframe\">\n",
       "  <thead>\n",
       "    <tr style=\"text-align: right;\">\n",
       "      <th></th>\n",
       "      <th>Name</th>\n",
       "      <th>Month</th>\n",
       "      <th>Day</th>\n",
       "      <th>Hour</th>\n",
       "      <th>Date</th>\n",
       "      <th>User Group Name</th>\n",
       "      <th>User Group Status</th>\n",
       "    </tr>\n",
       "  </thead>\n",
       "  <tbody>\n",
       "    <tr>\n",
       "      <th>0</th>\n",
       "      <td>Stephen Schwartz</td>\n",
       "      <td>1</td>\n",
       "      <td>1</td>\n",
       "      <td>6</td>\n",
       "      <td>2021-01-01</td>\n",
       "      <td>Senior Couple</td>\n",
       "      <td>Active</td>\n",
       "    </tr>\n",
       "    <tr>\n",
       "      <th>1</th>\n",
       "      <td>Robert Runion</td>\n",
       "      <td>2</td>\n",
       "      <td>7</td>\n",
       "      <td>7</td>\n",
       "      <td>2021-02-07</td>\n",
       "      <td>Senior Individual</td>\n",
       "      <td>Active</td>\n",
       "    </tr>\n",
       "  </tbody>\n",
       "</table>\n",
       "</div>"
      ],
      "text/plain": [
       "               Name  Month  Day  Hour       Date    User Group Name  \\\n",
       "0  Stephen Schwartz      1    1     6 2021-01-01      Senior Couple   \n",
       "1     Robert Runion      2    7     7 2021-02-07  Senior Individual   \n",
       "\n",
       "  User Group Status  \n",
       "0            Active  \n",
       "1            Active  "
      ]
     },
     "execution_count": 7,
     "metadata": {},
     "output_type": "execute_result"
    }
   ],
   "source": [
    "df2 = df[['Name', 'Month','Day','Hour','Date','User Group Name','User Group Status']]\n",
    "df2.head(2)"
   ]
  },
  {
   "cell_type": "markdown",
   "metadata": {},
   "source": [
    "Now I have a data set that has all the data we need, but I need a way to seperate each members duplicates for each dat.\n",
    "\n",
    "-methode 1: I could make 58 sperate data sets( one for each day) and take away duplicate names\n",
    "\n",
    "-methode 2: I could group by function both day and names and aggregate the count and see if that gives me the info I need.\n",
    "\n",
    "First lets make 2 seperate df's one for each month so our day numbers wont get confusing"
   ]
  },
  {
   "cell_type": "code",
   "execution_count": 8,
   "metadata": {},
   "outputs": [
    {
     "name": "stdout",
     "output_type": "stream",
     "text": [
      "                  Name  Month  Day  Hour       Date   User Group Name  \\\n",
      "0     Stephen Schwartz      1    1     6 2021-01-01     Senior Couple   \n",
      "5235        John Luksa      1   28    13 2021-01-28  Corporate Couple   \n",
      "\n",
      "     User Group Status  \n",
      "0               Active  \n",
      "5235            Active  \n",
      "             Name  Month  Day  Hour       Date    User Group Name  \\\n",
      "1   Robert Runion      2    7     7 2021-02-07  Senior Individual   \n",
      "2  Nadal Guerrier      2    7     7 2021-02-07   Adult Membership   \n",
      "\n",
      "  User Group Status  \n",
      "1            Active  \n",
      "2            Active  \n"
     ]
    }
   ],
   "source": [
    "jan = df2[df2.Month == 1]\n",
    "print(jan.head(2))\n",
    "feb = df2[df2.Month == 2]\n",
    "print(feb.head(2))"
   ]
  },
  {
   "cell_type": "markdown",
   "metadata": {},
   "source": [
    "Now we have our two seperate month df's to find our check in amounts with by day. "
   ]
  },
  {
   "cell_type": "markdown",
   "metadata": {},
   "source": [
    "# Finding the specific Data for project"
   ]
  },
  {
   "cell_type": "markdown",
   "metadata": {},
   "source": [
    "Lets go over a few strategies to get the data we want:\n",
    "\n",
    "-We can turn each day into a boolean data type (true or false) and get the count of all the true's for each name. unfortunately I can not take out the duplicates for each day using this methode (lets try another)\n",
    "\n",
    "-We can try to groupby function with a count to get amounts of check in's and then see if we can turn the numbers all to one's. again here with out taking out duplicates for each day I can not get accurate daily counts.\n",
    "\n",
    "-We can also break up the the 2 data frames into days, taking out duplicates and then use group by to get counts of each name. Last, take the58 group by series created and combine them in a data frame. Then we can compare and check for differences.\n",
    "finally we can make a function out of this for future use.\n",
    "\n",
    "(We will go with our last option due to fixing the issue though it is time consuming)"
   ]
  },
  {
   "cell_type": "code",
   "execution_count": 9,
   "metadata": {},
   "outputs": [],
   "source": [
    "jan1 = jan[jan.Day == 1]\n",
    "jan2 = jan[jan.Day == 2]\n",
    "jan3 = jan[jan.Day == 3]\n",
    "jan4 = jan[jan.Day == 4]\n",
    "jan5 = jan[jan.Day == 5]\n",
    "jan6 = jan[jan.Day == 6]\n",
    "jan7 = jan[jan.Day == 7]\n",
    "jan8 = jan[jan.Day == 8]\n",
    "jan9 = jan[jan.Day == 9]\n",
    "jan10 = jan[jan.Day == 10]\n",
    "jan11 = jan[jan.Day == 11]\n",
    "jan12 = jan[jan.Day == 12]\n",
    "jan13 = jan[jan.Day == 13]\n",
    "jan14 = jan[jan.Day == 14]\n",
    "jan15 = jan[jan.Day == 15]\n",
    "jan16 = jan[jan.Day == 16]\n",
    "jan17 = jan[jan.Day == 17]\n",
    "jan18 = jan[jan.Day == 18]\n",
    "jan19 = jan[jan.Day == 19]\n",
    "jan20 = jan[jan.Day == 20]\n",
    "jan21 = jan[jan.Day == 21]\n",
    "jan22 = jan[jan.Day == 22]\n",
    "jan23 = jan[jan.Day == 23]\n",
    "jan24 = jan[jan.Day == 24]\n",
    "jan25 = jan[jan.Day == 25]\n",
    "jan26 = jan[jan.Day == 26]\n",
    "jan27 = jan[jan.Day == 27]\n",
    "jan28 = jan[jan.Day == 28]\n",
    "jan29 = jan[jan.Day == 29]\n",
    "jan30 = jan[jan.Day == 30]\n",
    "jan31 = jan[jan.Day == 31]\n",
    "feb1 = feb[feb.Day == 1]\n",
    "feb2 = feb[feb.Day == 2]\n",
    "feb3 = feb[feb.Day == 3]\n",
    "feb4 = feb[feb.Day == 4]\n",
    "feb5 = feb[feb.Day == 5]\n",
    "feb6 = feb[feb.Day == 6]\n",
    "feb7 = feb[feb.Day == 7]\n",
    "feb8 = feb[feb.Day == 8]\n",
    "feb9 = feb[feb.Day == 9]\n",
    "feb10 = feb[feb.Day == 10]\n",
    "feb11 = feb[feb.Day == 11]\n",
    "feb12 = feb[feb.Day == 12]\n",
    "feb13 = feb[feb.Day == 13]\n",
    "feb14 = feb[feb.Day == 14]\n",
    "feb15 = feb[feb.Day == 15]\n",
    "feb16 = feb[feb.Day == 16]\n",
    "feb17 = feb[feb.Day == 17]\n",
    "feb18 = feb[feb.Day == 18]\n",
    "feb19 = feb[feb.Day == 19]\n",
    "feb20 = feb[feb.Day == 20]\n",
    "feb21 = feb[feb.Day == 21]\n",
    "feb22 = feb[feb.Day == 22]\n",
    "feb23 = feb[feb.Day == 23]\n",
    "feb24 = feb[feb.Day == 24]\n",
    "feb25 = feb[feb.Day == 25]\n",
    "feb26 = feb[feb.Day == 26]\n",
    "feb27 = feb[feb.Day == 27]\n",
    "feb28 = feb[feb.Day == 28]"
   ]
  },
  {
   "cell_type": "code",
   "execution_count": 10,
   "metadata": {},
   "outputs": [],
   "source": [
    "dj1 = jan1.drop_duplicates(subset = ['Name'])\n",
    "dj2 = jan2.drop_duplicates(subset = ['Name'])\n",
    "dj3 = jan3.drop_duplicates(subset = ['Name'])\n",
    "dj4 = jan4.drop_duplicates(subset = ['Name'])\n",
    "dj5 = jan5.drop_duplicates(subset = ['Name'])\n",
    "dj6 = jan6.drop_duplicates(subset = ['Name'])\n",
    "dj7 = jan7.drop_duplicates(subset = ['Name'])\n",
    "dj8 = jan8.drop_duplicates(subset = ['Name'])\n",
    "dj9 = jan9.drop_duplicates(subset = ['Name'])\n",
    "dj10 = jan10.drop_duplicates(subset = ['Name'])\n",
    "dj11 = jan11.drop_duplicates(subset = ['Name'])\n",
    "dj12 = jan12.drop_duplicates(subset = ['Name'])\n",
    "dj13 = jan13.drop_duplicates(subset = ['Name'])\n",
    "dj14 = jan14.drop_duplicates(subset = ['Name'])\n",
    "dj15 = jan15.drop_duplicates(subset = ['Name'])\n",
    "dj16 = jan16.drop_duplicates(subset = ['Name'])\n",
    "dj17 = jan17.drop_duplicates(subset = ['Name'])\n",
    "dj18 = jan18.drop_duplicates(subset = ['Name'])\n",
    "dj19 = jan19.drop_duplicates(subset = ['Name'])\n",
    "dj20 = jan20.drop_duplicates(subset = ['Name'])\n",
    "dj21 = jan21.drop_duplicates(subset = ['Name'])\n",
    "dj22 = jan22.drop_duplicates(subset = ['Name'])\n",
    "dj23 = jan23.drop_duplicates(subset = ['Name'])\n",
    "dj24 = jan24.drop_duplicates(subset = ['Name'])\n",
    "dj25 = jan25.drop_duplicates(subset = ['Name'])\n",
    "dj26 = jan26.drop_duplicates(subset = ['Name'])\n",
    "dj27 = jan27.drop_duplicates(subset = ['Name'])\n",
    "dj28 = jan28.drop_duplicates(subset = ['Name'])\n",
    "dj29 = jan29.drop_duplicates(subset = ['Name'])\n",
    "dj30 = jan30.drop_duplicates(subset = ['Name'])\n",
    "dj31 = jan31.drop_duplicates(subset = ['Name'])\n",
    "df1 = feb1.drop_duplicates(subset = ['Name'])\n",
    "df2 = feb2.drop_duplicates(subset = ['Name'])\n",
    "df3 = feb3.drop_duplicates(subset = ['Name'])\n",
    "df4 = feb4.drop_duplicates(subset = ['Name'])\n",
    "df5 = feb5.drop_duplicates(subset = ['Name'])\n",
    "df6 = feb6.drop_duplicates(subset = ['Name'])\n",
    "df7 = feb7.drop_duplicates(subset = ['Name'])\n",
    "df8 = feb8.drop_duplicates(subset = ['Name'])\n",
    "df9 = feb9.drop_duplicates(subset = ['Name'])\n",
    "df10 = feb10.drop_duplicates(subset = ['Name'])\n",
    "df11 = feb11.drop_duplicates(subset = ['Name'])\n",
    "df12 = feb12.drop_duplicates(subset = ['Name'])\n",
    "df13 = feb13.drop_duplicates(subset = ['Name'])\n",
    "df14 = feb14.drop_duplicates(subset = ['Name'])\n",
    "df15 = feb15.drop_duplicates(subset = ['Name'])\n",
    "df16 = feb16.drop_duplicates(subset = ['Name'])\n",
    "df17 = feb17.drop_duplicates(subset = ['Name'])\n",
    "df18 = feb18.drop_duplicates(subset = ['Name'])\n",
    "df19 = feb19.drop_duplicates(subset = ['Name'])\n",
    "df20 = feb20.drop_duplicates(subset = ['Name'])\n",
    "df21 = feb21.drop_duplicates(subset = ['Name'])\n",
    "df22 = feb22.drop_duplicates(subset = ['Name'])\n",
    "df23 = feb23.drop_duplicates(subset = ['Name'])\n",
    "df24 = feb24.drop_duplicates(subset = ['Name'])\n",
    "df25 = feb25.drop_duplicates(subset = ['Name'])\n",
    "df26 = feb26.drop_duplicates(subset = ['Name'])\n",
    "df27 = feb27.drop_duplicates(subset = ['Name'])\n",
    "df28 = feb28.drop_duplicates(subset = ['Name'])"
   ]
  },
  {
   "cell_type": "markdown",
   "metadata": {},
   "source": [
    "# now let me make a weekly data frames and then a combine dataset of all weeks"
   ]
  },
  {
   "cell_type": "code",
   "execution_count": 11,
   "metadata": {},
   "outputs": [
    {
     "name": "stdout",
     "output_type": "stream",
     "text": [
      "False    4510\n",
      "dtype: int64\n"
     ]
    }
   ],
   "source": [
    "week1_j = pd.concat([dj1, dj2, dj3, dj4, dj5, dj6, dj7, dj8])\n",
    "week1_j.head()\n",
    "z = week1_j.duplicated()\n",
    "print(z.value_counts())"
   ]
  },
  {
   "cell_type": "code",
   "execution_count": 12,
   "metadata": {},
   "outputs": [
    {
     "name": "stdout",
     "output_type": "stream",
     "text": [
      "False    4829\n",
      "dtype: int64\n"
     ]
    }
   ],
   "source": [
    "week2_j = pd.concat([dj9, dj10, dj11, dj12, dj13, dj14, dj15, dj16])\n",
    "week2_j.head()\n",
    "w = week2_j.duplicated()\n",
    "print(w.value_counts())"
   ]
  },
  {
   "cell_type": "code",
   "execution_count": 13,
   "metadata": {},
   "outputs": [
    {
     "name": "stdout",
     "output_type": "stream",
     "text": [
      "False    4666\n",
      "dtype: int64\n"
     ]
    }
   ],
   "source": [
    "week3_j = pd.concat([dj17, dj18, dj19, dj20, dj21, dj22, dj23, dj24])\n",
    "week3_j.head()\n",
    "y = week3_j.duplicated()\n",
    "print(y.value_counts())"
   ]
  },
  {
   "cell_type": "code",
   "execution_count": 14,
   "metadata": {},
   "outputs": [
    {
     "name": "stdout",
     "output_type": "stream",
     "text": [
      "False    4276\n",
      "dtype: int64\n"
     ]
    }
   ],
   "source": [
    "week4_j = pd.concat([dj25, dj26, dj27, dj28, dj29, dj30, dj31])\n",
    "week4_j.head()\n",
    "x = week4_j.duplicated()\n",
    "print(x.value_counts())"
   ]
  },
  {
   "cell_type": "code",
   "execution_count": 15,
   "metadata": {},
   "outputs": [
    {
     "name": "stdout",
     "output_type": "stream",
     "text": [
      "False    3552\n",
      "dtype: int64\n"
     ]
    }
   ],
   "source": [
    "febw1 = pd.concat([df1, df2, df3, df4, df5, df6, df7, df8])\n",
    "febw1.head()\n",
    "a1 = febw1.duplicated()\n",
    "print(a1.value_counts())"
   ]
  },
  {
   "cell_type": "code",
   "execution_count": 16,
   "metadata": {},
   "outputs": [
    {
     "name": "stdout",
     "output_type": "stream",
     "text": [
      "False    4889\n",
      "dtype: int64\n"
     ]
    }
   ],
   "source": [
    "febw2 = pd.concat([df9, df10, df11, df12, df13, df14, df15, df16])\n",
    "febw2.head()\n",
    "a2 = febw2.duplicated()\n",
    "print(a2.value_counts())"
   ]
  },
  {
   "cell_type": "code",
   "execution_count": 17,
   "metadata": {},
   "outputs": [
    {
     "name": "stdout",
     "output_type": "stream",
     "text": [
      "False    4425\n",
      "dtype: int64\n"
     ]
    }
   ],
   "source": [
    "febw3 = pd.concat([df17, df18, df19, df20, df21, df22, df23, df24])\n",
    "febw3.head()\n",
    "a3 = febw3.duplicated()\n",
    "print(a3.value_counts())"
   ]
  },
  {
   "cell_type": "code",
   "execution_count": 18,
   "metadata": {},
   "outputs": [
    {
     "name": "stdout",
     "output_type": "stream",
     "text": [
      "False    2145\n",
      "dtype: int64\n"
     ]
    }
   ],
   "source": [
    "febw4 = pd.concat([df25, df26, df27, df28])\n",
    "febw4.head()\n",
    "a4 = febw4.duplicated()\n",
    "print(a4.value_counts())"
   ]
  },
  {
   "cell_type": "markdown",
   "metadata": {},
   "source": [
    "Lets check to see the unique values in days in february checking for missing day's due to snow closures."
   ]
  },
  {
   "cell_type": "code",
   "execution_count": 19,
   "metadata": {},
   "outputs": [
    {
     "name": "stdout",
     "output_type": "stream",
     "text": [
      "[2 3 4 5 6 7 8]\n"
     ]
    }
   ],
   "source": [
    "dayoff = febw1.Day.unique()\n",
    "print(dayoff)"
   ]
  },
  {
   "cell_type": "markdown",
   "metadata": {},
   "source": [
    "Now I see that I need to prorate the first february series I make due to a missing day"
   ]
  },
  {
   "cell_type": "markdown",
   "metadata": {},
   "source": [
    "I need to get a group by counts function on these dataframes in order to see each individuals count of check in per week."
   ]
  },
  {
   "cell_type": "code",
   "execution_count": 20,
   "metadata": {},
   "outputs": [],
   "source": [
    "jan1_count = week1_j.groupby('Name').Name.count()\n",
    "jan2_count = week2_j.groupby('Name').Name.count()\n",
    "jan3_count = week3_j.groupby('Name').Name.count()\n",
    "jan4_count = week4_j.groupby('Name').Name.count()\n",
    "feb1_count = febw1.groupby('Name').Name.count()\n",
    "feb2_count = febw2.groupby('Name').Name.count()\n",
    "feb3_count = febw3.groupby('Name').Name.count()\n",
    "feb4_count = febw4.groupby('Name').Name.count()"
   ]
  },
  {
   "cell_type": "code",
   "execution_count": 21,
   "metadata": {},
   "outputs": [
    {
     "data": {
      "text/html": [
       "<div>\n",
       "<style scoped>\n",
       "    .dataframe tbody tr th:only-of-type {\n",
       "        vertical-align: middle;\n",
       "    }\n",
       "\n",
       "    .dataframe tbody tr th {\n",
       "        vertical-align: top;\n",
       "    }\n",
       "\n",
       "    .dataframe thead th {\n",
       "        text-align: right;\n",
       "    }\n",
       "</style>\n",
       "<table border=\"1\" class=\"dataframe\">\n",
       "  <thead>\n",
       "    <tr style=\"text-align: right;\">\n",
       "      <th></th>\n",
       "      <th>jan1-8</th>\n",
       "      <th>jan9-16</th>\n",
       "      <th>jan17-24</th>\n",
       "      <th>jan25-31</th>\n",
       "      <th>feb1-8</th>\n",
       "      <th>feb9-16</th>\n",
       "      <th>feb17-24</th>\n",
       "      <th>feb25-28</th>\n",
       "    </tr>\n",
       "  </thead>\n",
       "  <tbody>\n",
       "    <tr>\n",
       "      <th>A Leonard LaRocca</th>\n",
       "      <td>6.0</td>\n",
       "      <td>5.0</td>\n",
       "      <td>5.0</td>\n",
       "      <td>3.0</td>\n",
       "      <td>4.0</td>\n",
       "      <td>4.0</td>\n",
       "      <td>6.0</td>\n",
       "      <td>3.0</td>\n",
       "    </tr>\n",
       "    <tr>\n",
       "      <th>AJ Sites</th>\n",
       "      <td>NaN</td>\n",
       "      <td>1.0</td>\n",
       "      <td>NaN</td>\n",
       "      <td>1.0</td>\n",
       "      <td>1.0</td>\n",
       "      <td>NaN</td>\n",
       "      <td>NaN</td>\n",
       "      <td>NaN</td>\n",
       "    </tr>\n",
       "    <tr>\n",
       "      <th>Aakash Shah</th>\n",
       "      <td>NaN</td>\n",
       "      <td>NaN</td>\n",
       "      <td>NaN</td>\n",
       "      <td>3.0</td>\n",
       "      <td>4.0</td>\n",
       "      <td>7.0</td>\n",
       "      <td>4.0</td>\n",
       "      <td>2.0</td>\n",
       "    </tr>\n",
       "    <tr>\n",
       "      <th>Abigail Okupski</th>\n",
       "      <td>1.0</td>\n",
       "      <td>NaN</td>\n",
       "      <td>NaN</td>\n",
       "      <td>NaN</td>\n",
       "      <td>1.0</td>\n",
       "      <td>1.0</td>\n",
       "      <td>NaN</td>\n",
       "      <td>NaN</td>\n",
       "    </tr>\n",
       "    <tr>\n",
       "      <th>Abigale Prowker</th>\n",
       "      <td>NaN</td>\n",
       "      <td>NaN</td>\n",
       "      <td>NaN</td>\n",
       "      <td>NaN</td>\n",
       "      <td>NaN</td>\n",
       "      <td>1.0</td>\n",
       "      <td>NaN</td>\n",
       "      <td>NaN</td>\n",
       "    </tr>\n",
       "  </tbody>\n",
       "</table>\n",
       "</div>"
      ],
      "text/plain": [
       "                   jan1-8  jan9-16  jan17-24  jan25-31  feb1-8  feb9-16  \\\n",
       "A Leonard LaRocca     6.0      5.0       5.0       3.0     4.0      4.0   \n",
       "AJ Sites              NaN      1.0       NaN       1.0     1.0      NaN   \n",
       "Aakash Shah           NaN      NaN       NaN       3.0     4.0      7.0   \n",
       "Abigail Okupski       1.0      NaN       NaN       NaN     1.0      1.0   \n",
       "Abigale Prowker       NaN      NaN       NaN       NaN     NaN      1.0   \n",
       "\n",
       "                   feb17-24  feb25-28  \n",
       "A Leonard LaRocca       6.0       3.0  \n",
       "AJ Sites                NaN       NaN  \n",
       "Aakash Shah             4.0       2.0  \n",
       "Abigail Okupski         NaN       NaN  \n",
       "Abigale Prowker         NaN       NaN  "
      ]
     },
     "execution_count": 21,
     "metadata": {},
     "output_type": "execute_result"
    }
   ],
   "source": [
    "data = {'jan1-8': jan1_count, 'jan9-16': jan2_count, 'jan17-24': jan3_count, 'jan25-31': jan4_count, 'feb1-8': feb1_count,\\\n",
    "       'feb9-16': feb2_count, 'feb17-24': feb3_count, 'feb25-28': feb4_count}\n",
    "visits = pd.DataFrame(data)\n",
    "visits.head()"
   ]
  },
  {
   "cell_type": "markdown",
   "metadata": {},
   "source": [
    "I need to fill in the nan's with the value of 0. "
   ]
  },
  {
   "cell_type": "code",
   "execution_count": 22,
   "metadata": {},
   "outputs": [
    {
     "data": {
      "text/html": [
       "<div>\n",
       "<style scoped>\n",
       "    .dataframe tbody tr th:only-of-type {\n",
       "        vertical-align: middle;\n",
       "    }\n",
       "\n",
       "    .dataframe tbody tr th {\n",
       "        vertical-align: top;\n",
       "    }\n",
       "\n",
       "    .dataframe thead th {\n",
       "        text-align: right;\n",
       "    }\n",
       "</style>\n",
       "<table border=\"1\" class=\"dataframe\">\n",
       "  <thead>\n",
       "    <tr style=\"text-align: right;\">\n",
       "      <th></th>\n",
       "      <th>jan1-8</th>\n",
       "      <th>jan9-16</th>\n",
       "      <th>jan17-24</th>\n",
       "      <th>jan25-31</th>\n",
       "      <th>feb1-8</th>\n",
       "      <th>feb9-16</th>\n",
       "      <th>feb17-24</th>\n",
       "      <th>feb25-28</th>\n",
       "    </tr>\n",
       "  </thead>\n",
       "  <tbody>\n",
       "    <tr>\n",
       "      <th>A Leonard LaRocca</th>\n",
       "      <td>6.0</td>\n",
       "      <td>5.0</td>\n",
       "      <td>5.0</td>\n",
       "      <td>3.0</td>\n",
       "      <td>4.0</td>\n",
       "      <td>4.0</td>\n",
       "      <td>6.0</td>\n",
       "      <td>3.0</td>\n",
       "    </tr>\n",
       "    <tr>\n",
       "      <th>AJ Sites</th>\n",
       "      <td>0.0</td>\n",
       "      <td>1.0</td>\n",
       "      <td>0.0</td>\n",
       "      <td>1.0</td>\n",
       "      <td>1.0</td>\n",
       "      <td>0.0</td>\n",
       "      <td>0.0</td>\n",
       "      <td>0.0</td>\n",
       "    </tr>\n",
       "    <tr>\n",
       "      <th>Aakash Shah</th>\n",
       "      <td>0.0</td>\n",
       "      <td>0.0</td>\n",
       "      <td>0.0</td>\n",
       "      <td>3.0</td>\n",
       "      <td>4.0</td>\n",
       "      <td>7.0</td>\n",
       "      <td>4.0</td>\n",
       "      <td>2.0</td>\n",
       "    </tr>\n",
       "    <tr>\n",
       "      <th>Abigail Okupski</th>\n",
       "      <td>1.0</td>\n",
       "      <td>0.0</td>\n",
       "      <td>0.0</td>\n",
       "      <td>0.0</td>\n",
       "      <td>1.0</td>\n",
       "      <td>1.0</td>\n",
       "      <td>0.0</td>\n",
       "      <td>0.0</td>\n",
       "    </tr>\n",
       "    <tr>\n",
       "      <th>Abigale Prowker</th>\n",
       "      <td>0.0</td>\n",
       "      <td>0.0</td>\n",
       "      <td>0.0</td>\n",
       "      <td>0.0</td>\n",
       "      <td>0.0</td>\n",
       "      <td>1.0</td>\n",
       "      <td>0.0</td>\n",
       "      <td>0.0</td>\n",
       "    </tr>\n",
       "  </tbody>\n",
       "</table>\n",
       "</div>"
      ],
      "text/plain": [
       "                   jan1-8  jan9-16  jan17-24  jan25-31  feb1-8  feb9-16  \\\n",
       "A Leonard LaRocca     6.0      5.0       5.0       3.0     4.0      4.0   \n",
       "AJ Sites              0.0      1.0       0.0       1.0     1.0      0.0   \n",
       "Aakash Shah           0.0      0.0       0.0       3.0     4.0      7.0   \n",
       "Abigail Okupski       1.0      0.0       0.0       0.0     1.0      1.0   \n",
       "Abigale Prowker       0.0      0.0       0.0       0.0     0.0      1.0   \n",
       "\n",
       "                   feb17-24  feb25-28  \n",
       "A Leonard LaRocca       6.0       3.0  \n",
       "AJ Sites                0.0       0.0  \n",
       "Aakash Shah             4.0       2.0  \n",
       "Abigail Okupski         0.0       0.0  \n",
       "Abigale Prowker         0.0       0.0  "
      ]
     },
     "execution_count": 22,
     "metadata": {},
     "output_type": "execute_result"
    }
   ],
   "source": [
    "visits = visits.fillna(0)\n",
    "visits.head()"
   ]
  },
  {
   "cell_type": "markdown",
   "metadata": {},
   "source": [
    "We need to add a multiplier to jan25-31 and feb25-28\n",
    "\n",
    "-all columns have 8 days except those 2 columns\n",
    "\n",
    "-the jan column has 7 days so a multiplier of 1.14 is needed\n",
    "\n",
    "-the feb column has 4 days so a multiplier of 2 is needed"
   ]
  },
  {
   "cell_type": "code",
   "execution_count": 23,
   "metadata": {},
   "outputs": [],
   "source": [
    "visits['feb1-8'] = (visits['feb1-8'] * 1.14).round(0)"
   ]
  },
  {
   "cell_type": "code",
   "execution_count": 24,
   "metadata": {},
   "outputs": [],
   "source": [
    "visits['jan25-31'] = (visits['jan25-31'] * 1.14).round(0)"
   ]
  },
  {
   "cell_type": "code",
   "execution_count": 25,
   "metadata": {},
   "outputs": [],
   "source": [
    "visits['feb25-28'] = visits['feb25-28'] * 2"
   ]
  },
  {
   "cell_type": "code",
   "execution_count": 26,
   "metadata": {},
   "outputs": [
    {
     "data": {
      "text/html": [
       "<div>\n",
       "<style scoped>\n",
       "    .dataframe tbody tr th:only-of-type {\n",
       "        vertical-align: middle;\n",
       "    }\n",
       "\n",
       "    .dataframe tbody tr th {\n",
       "        vertical-align: top;\n",
       "    }\n",
       "\n",
       "    .dataframe thead th {\n",
       "        text-align: right;\n",
       "    }\n",
       "</style>\n",
       "<table border=\"1\" class=\"dataframe\">\n",
       "  <thead>\n",
       "    <tr style=\"text-align: right;\">\n",
       "      <th></th>\n",
       "      <th>jan1-8</th>\n",
       "      <th>jan9-16</th>\n",
       "      <th>jan17-24</th>\n",
       "      <th>jan25-31</th>\n",
       "      <th>feb1-8</th>\n",
       "      <th>feb9-16</th>\n",
       "      <th>feb17-24</th>\n",
       "      <th>feb25-28</th>\n",
       "    </tr>\n",
       "  </thead>\n",
       "  <tbody>\n",
       "    <tr>\n",
       "      <th>A Leonard LaRocca</th>\n",
       "      <td>6.0</td>\n",
       "      <td>5.0</td>\n",
       "      <td>5.0</td>\n",
       "      <td>3.0</td>\n",
       "      <td>5.0</td>\n",
       "      <td>4.0</td>\n",
       "      <td>6.0</td>\n",
       "      <td>6.0</td>\n",
       "    </tr>\n",
       "    <tr>\n",
       "      <th>AJ Sites</th>\n",
       "      <td>0.0</td>\n",
       "      <td>1.0</td>\n",
       "      <td>0.0</td>\n",
       "      <td>1.0</td>\n",
       "      <td>1.0</td>\n",
       "      <td>0.0</td>\n",
       "      <td>0.0</td>\n",
       "      <td>0.0</td>\n",
       "    </tr>\n",
       "    <tr>\n",
       "      <th>Aakash Shah</th>\n",
       "      <td>0.0</td>\n",
       "      <td>0.0</td>\n",
       "      <td>0.0</td>\n",
       "      <td>3.0</td>\n",
       "      <td>5.0</td>\n",
       "      <td>7.0</td>\n",
       "      <td>4.0</td>\n",
       "      <td>4.0</td>\n",
       "    </tr>\n",
       "    <tr>\n",
       "      <th>Abigail Okupski</th>\n",
       "      <td>1.0</td>\n",
       "      <td>0.0</td>\n",
       "      <td>0.0</td>\n",
       "      <td>0.0</td>\n",
       "      <td>1.0</td>\n",
       "      <td>1.0</td>\n",
       "      <td>0.0</td>\n",
       "      <td>0.0</td>\n",
       "    </tr>\n",
       "    <tr>\n",
       "      <th>Abigale Prowker</th>\n",
       "      <td>0.0</td>\n",
       "      <td>0.0</td>\n",
       "      <td>0.0</td>\n",
       "      <td>0.0</td>\n",
       "      <td>0.0</td>\n",
       "      <td>1.0</td>\n",
       "      <td>0.0</td>\n",
       "      <td>0.0</td>\n",
       "    </tr>\n",
       "  </tbody>\n",
       "</table>\n",
       "</div>"
      ],
      "text/plain": [
       "                   jan1-8  jan9-16  jan17-24  jan25-31  feb1-8  feb9-16  \\\n",
       "A Leonard LaRocca     6.0      5.0       5.0       3.0     5.0      4.0   \n",
       "AJ Sites              0.0      1.0       0.0       1.0     1.0      0.0   \n",
       "Aakash Shah           0.0      0.0       0.0       3.0     5.0      7.0   \n",
       "Abigail Okupski       1.0      0.0       0.0       0.0     1.0      1.0   \n",
       "Abigale Prowker       0.0      0.0       0.0       0.0     0.0      1.0   \n",
       "\n",
       "                   feb17-24  feb25-28  \n",
       "A Leonard LaRocca       6.0       6.0  \n",
       "AJ Sites                0.0       0.0  \n",
       "Aakash Shah             4.0       4.0  \n",
       "Abigail Okupski         0.0       0.0  \n",
       "Abigale Prowker         0.0       0.0  "
      ]
     },
     "execution_count": 26,
     "metadata": {},
     "output_type": "execute_result"
    }
   ],
   "source": [
    "visits.head()"
   ]
  },
  {
   "cell_type": "code",
   "execution_count": 27,
   "metadata": {},
   "outputs": [],
   "source": [
    "visits.to_csv( r'C:\\Users\\steph\\OneDrive\\Desktop\\Coding\\Healthquest data\\archive\\all.csv')"
   ]
  },
  {
   "cell_type": "markdown",
   "metadata": {},
   "source": [
    "# Visualization of overall trends"
   ]
  },
  {
   "cell_type": "code",
   "execution_count": 28,
   "metadata": {},
   "outputs": [
    {
     "name": "stdout",
     "output_type": "stream",
     "text": [
      "['jan1-8', 'jan9-16', 'jan17-24', 'jan25-31', 'feb1-8', 'feb9-16', 'feb17-24', 'feb25-28']\n"
     ]
    },
    {
     "data": {
      "text/plain": [
       "[Text(0, 0, 'jan1-8'),\n",
       " Text(1, 0, 'jan9-16'),\n",
       " Text(2, 0, 'jan17-24'),\n",
       " Text(3, 0, 'jan25-31'),\n",
       " Text(4, 0, 'feb1-8'),\n",
       " Text(5, 0, 'feb9-16'),\n",
       " Text(6, 0, 'feb17-24'),\n",
       " Text(7, 0, 'feb25-28')]"
      ]
     },
     "execution_count": 28,
     "metadata": {},
     "output_type": "execute_result"
    },
    {
     "data": {
      "image/png": "[encoded data removed]",
      "text/plain": [
       "<Figure size 432x288 with 1 Axes>"
      ]
     },
     "metadata": {
      "needs_background": "light"
     },
     "output_type": "display_data"
    }
   ],
   "source": [
    "label = visits.columns.tolist()\n",
    "print(label)\n",
    "\n",
    "j1 = visits['jan1-8'].sum()\n",
    "j2 = visits['jan9-16'].sum()\n",
    "j3 = visits['jan17-24'].sum()\n",
    "j4 = visits['jan25-31'].sum()\n",
    "f1 = visits['feb1-8'].sum()\n",
    "f2 = visits['feb9-16'].sum()\n",
    "f3 = visits['feb17-24'].sum()\n",
    "f4 = visits['feb25-28'].sum()\n",
    "\n",
    "ax = plt.subplot()\n",
    "plt.bar(label, [j1, j2, j3, j4, f1, f2, f3, f4])\n",
    "ax.set_xticks([0, 1, 2, 3, 4, 5, 6, 7])\n",
    "ax.set_xticklabels(label, rotation = 30)"
   ]
  },
  {
   "cell_type": "markdown",
   "metadata": {},
   "source": [
    "Looking at the visual we see that there is relative consitancy in check in's minus one outlier (feb1-8). this specific grouping had 2 snow days that either affected the whole day or part of the day. \n",
    "Let's us the anova test to see if all these weeks have a statistical difference"
   ]
  },
  {
   "cell_type": "code",
   "execution_count": 29,
   "metadata": {},
   "outputs": [
    {
     "name": "stdout",
     "output_type": "stream",
     "text": [
      "2.291363053894867e-12\n"
     ]
    }
   ],
   "source": [
    "from scipy.stats import f_oneway\n",
    "fstat, pval = f_oneway(visits['jan1-8'], visits['jan9-16'], visits['jan17-24'],\\\n",
    "                      visits['jan25-31'], visits['feb1-8'], visits['feb9-16'], \\\n",
    "                      visits['feb17-24'], visits['feb25-28'])\n",
    "\n",
    "print(pval)"
   ]
  },
  {
   "cell_type": "markdown",
   "metadata": {},
   "source": [
    "There is statistical significance in the differenc between the distributions, but what happens if I take out the snow day outliers\n"
   ]
  },
  {
   "cell_type": "code",
   "execution_count": 30,
   "metadata": {},
   "outputs": [
    {
     "name": "stdout",
     "output_type": "stream",
     "text": [
      "6e-05\n"
     ]
    }
   ],
   "source": [
    "\n",
    "fstat1, pval1 = f_oneway(visits['jan1-8'], visits['jan9-16'], visits['jan17-24'],\\\n",
    "                      visits['jan25-31'], visits['feb9-16'], \\\n",
    "                      visits['feb17-24'], visits['feb25-28'])\n",
    "\n",
    "print(pval1.round(5))"
   ]
  },
  {
   "cell_type": "code",
   "execution_count": 31,
   "metadata": {},
   "outputs": [
    {
     "name": "stdout",
     "output_type": "stream",
     "text": [
      "Multiple Comparison of Means - Tukey HSD, FWER=0.05\n",
      "==================================================\n",
      "group1 group2 meandiff p-adj  lower  upper  reject\n",
      "--------------------------------------------------\n",
      "   0.0    1.0   0.5053  0.001 0.2206 0.7899   True\n",
      "   0.0    2.0   1.3172  0.001 1.0157 1.6186   True\n",
      "   0.0    3.0   2.1838  0.001 1.8691 2.4986   True\n",
      "   0.0    4.0   2.9121  0.001 2.5645 3.2597   True\n",
      "   0.0    5.0   3.4505  0.001 3.0839 3.8171   True\n",
      "   0.0    6.0   4.3866  0.001 3.9621 4.8111   True\n",
      "   0.0    7.0   5.1118  0.001 4.5585 5.6652   True\n",
      "   0.0    8.0   6.2662  0.001 5.4841 7.0484   True\n",
      "   1.0    2.0   0.8119  0.001 0.4679 1.1559   True\n",
      "   1.0    3.0   1.6786  0.001 1.3228 2.0343   True\n",
      "   1.0    4.0   2.4068  0.001 2.0217  2.792   True\n",
      "   1.0    5.0   2.9452  0.001 2.5429 3.3475   True\n",
      "   1.0    6.0   3.8813  0.001 3.4256 4.3371   True\n",
      "   1.0    7.0   4.6066  0.001 4.0289 5.1842   True\n",
      "   1.0    8.0    5.761  0.001 4.9614 6.5605   True\n",
      "   2.0    3.0   0.8666  0.001 0.4973  1.236   True\n",
      "   2.0    4.0   1.5949  0.001 1.1972 1.9927   True\n",
      "   2.0    5.0   2.1333  0.001  1.719 2.5477   True\n",
      "   2.0    6.0   3.0694  0.001  2.603 3.5359   True\n",
      "   2.0    7.0   3.7947  0.001 3.2086 4.3808   True\n",
      "   2.0    8.0   4.9491  0.001 4.1434 5.7547   True\n",
      "   3.0    4.0   0.7283  0.001 0.3204 1.1361   True\n",
      "   3.0    5.0   1.2667  0.001 0.8426 1.6908   True\n",
      "   3.0    6.0   2.2028  0.001 1.7277 2.6779   True\n",
      "   3.0    7.0    2.928  0.001  2.335  3.521   True\n",
      "   3.0    8.0   4.0824  0.001 3.2717 4.8931   True\n",
      "   4.0    5.0   0.5384 0.0063 0.0893 0.9874   True\n",
      "   4.0    6.0   1.4745  0.001  0.977  1.972   True\n",
      "   4.0    7.0   2.1997  0.001 1.5886 2.8108   True\n",
      "   4.0    8.0   3.3541  0.001 2.5301 4.1782   True\n",
      "   5.0    6.0   0.9361  0.001 0.4252  1.447   True\n",
      "   5.0    7.0   1.6613  0.001 1.0393 2.2834   True\n",
      "   5.0    8.0   2.8157  0.001 1.9835 3.6479   True\n",
      "   6.0    7.0   0.7252 0.0183 0.0673 1.3831   True\n",
      "   6.0    8.0   1.8796  0.001 1.0203 2.7389   True\n",
      "   7.0    8.0   1.1544 0.0038 0.2247 2.0841   True\n",
      "--------------------------------------------------\n",
      "Multiple Comparison of Means - Tukey HSD, FWER=0.05\n",
      "==================================================\n",
      "group1 group2 meandiff p-adj  lower  upper  reject\n",
      "--------------------------------------------------\n",
      "   0.0    1.0    0.523  0.001 0.2457 0.8002   True\n",
      "   0.0    2.0   1.4861  0.001 1.1924 1.7797   True\n",
      "   0.0    3.0   2.1687  0.001 1.8621 2.4752   True\n",
      "   0.0    4.0   2.9345  0.001 2.5959  3.273   True\n",
      "   0.0    5.0   3.5368  0.001 3.1798 3.8938   True\n",
      "   0.0    6.0   4.4539  0.001 4.0404 4.8674   True\n",
      "   0.0    7.0   5.4173  0.001 4.8784 5.9562   True\n",
      "   0.0    8.0   6.4621  0.001 5.7003 7.2239   True\n",
      "   1.0    2.0   0.9631  0.001  0.628 1.2982   True\n",
      "   1.0    3.0   1.6457  0.001 1.2992 1.9921   True\n",
      "   1.0    4.0   2.4115  0.001 2.0364 2.7866   True\n",
      "   1.0    5.0   3.0138  0.001  2.622 3.4057   True\n",
      "   1.0    6.0   3.9309  0.001 3.4871 4.3748   True\n",
      "   1.0    7.0   4.8944  0.001 4.3318 5.4569   True\n",
      "   1.0    8.0   5.9391  0.001 5.1604 6.7178   True\n",
      "   2.0    3.0   0.6826  0.001 0.3229 1.0423   True\n",
      "   2.0    4.0   1.4484  0.001  1.061 1.8357   True\n",
      "   2.0    5.0   2.0507  0.001 1.6472 2.4543   True\n",
      "   2.0    6.0   2.9678  0.001 2.5136 3.4221   True\n",
      "   2.0    7.0   3.9313  0.001 3.3604 4.5021   True\n",
      "   2.0    8.0    4.976  0.001 4.1914 5.7607   True\n",
      "   3.0    4.0   0.7658  0.001 0.3686  1.163   True\n",
      "   3.0    5.0   1.3681  0.001 0.9551 1.7812   True\n",
      "   3.0    6.0   2.2852  0.001 1.8225  2.748   True\n",
      "   3.0    7.0   3.2487  0.001 2.6711 3.8262   True\n",
      "   3.0    8.0   4.2934  0.001 3.5038  5.083   True\n",
      "   4.0    5.0   0.6024  0.001  0.165 1.0397   True\n",
      "   4.0    6.0   1.5194  0.001 1.0349  2.004   True\n",
      "   4.0    7.0   2.4829  0.001 1.8877 3.0781   True\n",
      "   4.0    8.0   3.5276  0.001 2.7251 4.3302   True\n",
      "   5.0    6.0   0.9171  0.001 0.4195 1.4147   True\n",
      "   5.0    7.0   1.8805  0.001 1.2746 2.4864   True\n",
      "   5.0    8.0   2.9253  0.001 2.1148 3.7358   True\n",
      "   6.0    7.0   0.9634  0.001 0.3227 1.6042   True\n",
      "   6.0    8.0   2.0082  0.001 1.1713 2.8451   True\n",
      "   7.0    8.0   1.0448 0.0105 0.1393 1.9503   True\n",
      "--------------------------------------------------\n",
      "Multiple Comparison of Means - Tukey HSD, FWER=0.05\n",
      "==================================================\n",
      "group1 group2 meandiff p-adj  lower  upper  reject\n",
      "--------------------------------------------------\n",
      "   0.0    1.0   0.6664  0.001 0.4019 0.9308   True\n",
      "   0.0    2.0    1.593  0.001 1.3136 1.8725   True\n",
      "   0.0    3.0    2.457  0.001 2.1615 2.7525   True\n",
      "   0.0    5.0   3.3819  0.001 3.0614 3.7024   True\n",
      "   0.0    6.0   4.0285  0.001 3.6758 4.3812   True\n",
      "   0.0    7.0   5.0326  0.001 4.5887 5.4764   True\n",
      "   0.0    8.0   5.7896  0.001 5.1736 6.4057   True\n",
      "   1.0    2.0   0.9267  0.001 0.6038 1.2495   True\n",
      "   1.0    3.0   1.7906  0.001 1.4538 2.1274   True\n",
      "   1.0    5.0   2.7155  0.001 2.3566 3.0745   True\n",
      "   1.0    6.0   3.3621  0.001 2.9741 3.7501   True\n",
      "   1.0    7.0   4.3662  0.001 3.8938 4.8386   True\n",
      "   1.0    8.0   5.1233  0.001 4.4864 5.7602   True\n",
      "   2.0    3.0    0.864  0.001 0.5152 1.2127   True\n",
      "   2.0    5.0   1.7889  0.001 1.4187 2.1591   True\n",
      "   2.0    6.0   2.4355  0.001 2.0371 2.8338   True\n",
      "   2.0    7.0   3.4395  0.001 2.9586 3.9205   True\n",
      "   2.0    8.0   4.1966  0.001 3.5533 4.8399   True\n",
      "   3.0    5.0   0.9249  0.001 0.5425 1.3073   True\n",
      "   3.0    6.0   1.5715  0.001 1.1617 1.9812   True\n",
      "   3.0    7.0   2.5756  0.001 2.0851  3.066   True\n",
      "   3.0    8.0   3.3326  0.001 2.6822 3.9831   True\n",
      "   5.0    6.0   0.6466  0.001 0.2184 1.0747   True\n",
      "   5.0    7.0   1.6506  0.001 1.1448 2.1565   True\n",
      "   5.0    8.0   2.4077  0.001 1.7456 3.0699   True\n",
      "   6.0    7.0   1.0041  0.001 0.4772 1.5309   True\n",
      "   6.0    8.0   1.7612  0.001 1.0828 2.4395   True\n",
      "   7.0    8.0   0.7571 0.0357 0.0272  1.487   True\n",
      "--------------------------------------------------\n",
      "Multiple Comparison of Means - Tukey HSD, FWER=0.05\n",
      "===================================================\n",
      "group1 group2 meandiff p-adj   lower  upper  reject\n",
      "---------------------------------------------------\n",
      "   0.0    1.0   0.8668  0.001  0.5766 1.1571   True\n",
      "   0.0    2.0    2.081  0.001  1.7607 2.4013   True\n",
      "   0.0    3.0   2.9849  0.001  2.6258 3.3441   True\n",
      "   0.0    5.0   4.1715  0.001  3.7955 4.5475   True\n",
      "   0.0    6.0   5.0122  0.001  4.5477 5.4766   True\n",
      "   0.0    7.0   5.5241  0.001  4.7929 6.2553   True\n",
      "   0.0    8.0   5.6029  0.001  4.3841 6.8217   True\n",
      "   1.0    2.0   1.2141  0.001  0.8513 1.5769   True\n",
      "   1.0    3.0   2.1181  0.001  1.7206 2.5156   True\n",
      "   1.0    5.0   3.3046  0.001  2.8918 3.7174   True\n",
      "   1.0    6.0   4.1453  0.001  3.6506   4.64   True\n",
      "   1.0    7.0   4.6572  0.001  3.9064  5.408   True\n",
      "   1.0    8.0    4.736  0.001  3.5054 5.9667   True\n",
      "   2.0    3.0    0.904  0.001  0.4839  1.324   True\n",
      "   2.0    5.0   2.0905  0.001   1.656  2.525   True\n",
      "   2.0    6.0   2.9312  0.001  2.4182 3.4441   True\n",
      "   2.0    7.0   3.4431  0.001  2.6802 4.2061   True\n",
      "   2.0    8.0   3.5219  0.001  2.2838   4.76   True\n",
      "   3.0    5.0   1.1865  0.001  0.7226 1.6504   True\n",
      "   3.0    6.0   2.0272  0.001  1.4891 2.5653   True\n",
      "   3.0    7.0   2.5391  0.001  1.7591 3.3192   True\n",
      "   3.0    8.0   2.6179  0.001  1.3692 3.8667   True\n",
      "   5.0    6.0   0.8407  0.001  0.2912 1.3901   True\n",
      "   5.0    7.0   1.3526  0.001  0.5646 2.1406   True\n",
      "   5.0    8.0   1.4314 0.0127  0.1777 2.6851   True\n",
      "   6.0    7.0   0.5119 0.5659 -0.3219 1.3457  False\n",
      "   6.0    8.0   0.5907 0.8441 -0.6922 1.8737  False\n",
      "   7.0    8.0   0.0788    0.9  -1.323 1.4806  False\n",
      "---------------------------------------------------\n",
      "Multiple Comparison of Means - Tukey HSD, FWER=0.05\n",
      "==================================================\n",
      "group1 group2 meandiff p-adj  lower  upper  reject\n",
      "--------------------------------------------------\n",
      "   0.0    1.0   0.5368  0.001  0.269 0.8047   True\n",
      "   0.0    2.0   1.2367  0.001 0.9346 1.5389   True\n",
      "   0.0    3.0   1.8145  0.001 1.5094 2.1195   True\n",
      "   0.0    4.0   2.5486  0.001 2.2325 2.8647   True\n",
      "   0.0    5.0   3.3435  0.001 2.9887 3.6983   True\n",
      "   0.0    6.0   4.3387  0.001 3.9703 4.7071   True\n",
      "   0.0    7.0   5.1431  0.001 4.6735 5.6128   True\n",
      "   0.0    8.0   6.2503  0.001  5.465 7.0356   True\n",
      "   1.0    2.0   0.6999  0.001 0.3564 1.0433   True\n",
      "   1.0    3.0   1.2776  0.001 0.9316 1.6236   True\n",
      "   1.0    4.0   2.0118  0.001  1.656 2.3676   True\n",
      "   1.0    5.0   2.8066  0.001  2.416 3.1972   True\n",
      "   1.0    6.0   3.8019  0.001 3.3989 4.2049   True\n",
      "   1.0    7.0   4.6063  0.001  4.109 5.1036   True\n",
      "   1.0    8.0   5.7134  0.001 4.9113 6.5156   True\n",
      "   2.0    3.0   0.5777  0.001 0.2046 0.9509   True\n",
      "   2.0    4.0   1.3119  0.001 0.9296 1.6942   True\n",
      "   2.0    5.0   2.1067  0.001 1.6919 2.5216   True\n",
      "   2.0    6.0    3.102  0.001 2.6755 3.5285   True\n",
      "   2.0    7.0   3.9064  0.001 3.3899  4.423   True\n",
      "   2.0    8.0   5.0136  0.001 4.1994 5.8278   True\n",
      "   3.0    4.0   0.7342  0.001 0.3496 1.1187   True\n",
      "   3.0    5.0    1.529  0.001 1.1121 1.9459   True\n",
      "   3.0    6.0   2.5243  0.001 2.0957 2.9529   True\n",
      "   3.0    7.0   3.3287  0.001 2.8105 3.8469   True\n",
      "   3.0    8.0   4.4358  0.001 3.6205 5.2511   True\n",
      "   4.0    5.0   0.7948  0.001 0.3697 1.2199   True\n",
      "   4.0    6.0   1.7901  0.001 1.3536 2.2266   True\n",
      "   4.0    7.0   2.5945  0.001 2.0697 3.1194   True\n",
      "   4.0    8.0   3.7017  0.001 2.8822 4.5212   True\n",
      "   5.0    6.0   0.9953  0.001 0.5299 1.4606   True\n",
      "   5.0    7.0   1.7997  0.001 1.2507 2.3487   True\n",
      "   5.0    8.0   2.9068  0.001 2.0716  3.742   True\n",
      "   6.0    7.0   0.8044  0.001 0.2465 1.3623   True\n",
      "   6.0    8.0   1.9116  0.001 1.0705 2.7526   True\n",
      "   7.0    8.0   1.1071 0.0037  0.217 1.9972   True\n",
      "--------------------------------------------------\n",
      "Multiple Comparison of Means - Tukey HSD, FWER=0.05\n",
      "===================================================\n",
      "group1 group2 meandiff p-adj   lower  upper  reject\n",
      "---------------------------------------------------\n",
      "   0.0    1.0    0.807  0.001  0.5276 1.0864   True\n",
      "   0.0    2.0   1.8681  0.001  1.5635 2.1727   True\n",
      "   0.0    3.0   2.6407  0.001  2.3236 2.9579   True\n",
      "   0.0    4.0   3.2549  0.001  2.9051 3.6047   True\n",
      "   0.0    5.0   4.4168  0.001  4.0451 4.7885   True\n",
      "   0.0    6.0   5.1336  0.001  4.6946 5.5727   True\n",
      "   0.0    7.0   6.2051  0.001  5.5326 6.8776   True\n",
      "   0.0    8.0   6.5162  0.001  4.8528 8.1796   True\n",
      "   1.0    2.0   1.0612  0.001  0.7162 1.4061   True\n",
      "   1.0    3.0   1.8338  0.001  1.4777 2.1898   True\n",
      "   1.0    4.0   2.4479  0.001  2.0625 2.8334   True\n",
      "   1.0    5.0   3.6098  0.001  3.2044 4.0152   True\n",
      "   1.0    6.0   4.3266  0.001  3.8587 4.7946   True\n",
      "   1.0    7.0   5.3981  0.001  4.7064 6.0899   True\n",
      "   1.0    8.0   5.7092  0.001   4.038 7.3805   True\n",
      "   2.0    3.0   0.7726  0.001  0.3964 1.1488   True\n",
      "   2.0    4.0   1.3868  0.001  0.9827 1.7908   True\n",
      "   2.0    5.0   2.5487  0.001  2.1255 2.9718   True\n",
      "   2.0    6.0   3.2655  0.001  2.7821 3.7489   True\n",
      "   2.0    7.0    4.337  0.001  3.6347 5.0393   True\n",
      "   2.0    8.0   4.6481  0.001  2.9725 6.3237   True\n",
      "   3.0    4.0   0.6142  0.001  0.2006 1.0278   True\n",
      "   3.0    5.0   1.7761  0.001  1.3438 2.2083   True\n",
      "   3.0    6.0   2.4929  0.001  2.0015 2.9843   True\n",
      "   3.0    7.0   3.5644  0.001  2.8566 4.2722   True\n",
      "   3.0    8.0   3.8755  0.001  2.1975 5.5534   True\n",
      "   4.0    5.0   1.1619  0.001  0.7051 1.6186   True\n",
      "   4.0    6.0   1.8787  0.001  1.3656 2.3918   True\n",
      "   4.0    7.0   2.9502  0.001  2.2272 3.6732   True\n",
      "   4.0    8.0   3.2613  0.001  1.5769 4.9457   True\n",
      "   5.0    6.0   0.7168  0.001  0.1886  1.245   True\n",
      "   5.0    7.0   1.7883  0.001  1.0544 2.5222   True\n",
      "   5.0    8.0   2.0994 0.0037  0.4103 3.7885   True\n",
      "   6.0    7.0   1.0715  0.001  0.3013 1.8417   True\n",
      "   6.0    8.0   1.3826  0.224 -0.3226 3.0878  False\n",
      "   7.0    8.0   0.3111    0.9 -1.4686 2.0908  False\n",
      "---------------------------------------------------\n",
      "Multiple Comparison of Means - Tukey HSD, FWER=0.05\n",
      "=================================================\n",
      "group1 group2 meandiff p-adj lower  upper  reject\n",
      "-------------------------------------------------\n",
      "   0.0    2.0   1.2128 0.001 0.9933 1.4323   True\n",
      "   0.0    4.0   2.5896 0.001 2.3425 2.8368   True\n",
      "   0.0    6.0   3.7237 0.001 3.4034 4.0439   True\n",
      "   0.0    8.0   4.8289 0.001  4.216 5.4417   True\n",
      "   2.0    4.0   1.3768 0.001 1.1041 1.6496   True\n",
      "   2.0    6.0   2.5109 0.001 2.1705 2.8513   True\n",
      "   2.0    8.0   3.6161 0.001 2.9924 4.2397   True\n",
      "   4.0    6.0    1.134 0.001 0.7752 1.4928   True\n",
      "   4.0    8.0   2.2392 0.001 1.6053 2.8731   True\n",
      "   6.0    8.0   1.1052 0.001 0.4394  1.771   True\n",
      "-------------------------------------------------\n"
     ]
    }
   ],
   "source": [
    "from statsmodels.stats.multicomp import pairwise_tukeyhsd\n",
    "tukey_results = pairwise_tukeyhsd(visits['jan1-8'], visits['jan9-16'],  0.05)\n",
    "print(tukey_results)\n",
    "t2 = pairwise_tukeyhsd(visits['jan17-24'], visits['jan9-16'],  0.05)\n",
    "print(t2)\n",
    "t3 = pairwise_tukeyhsd(visits['jan17-24'], visits['jan25-31'],  0.05)\n",
    "print(t3)\n",
    "t4 = pairwise_tukeyhsd(visits['jan25-31'], visits['feb1-8'],  0.05)\n",
    "print(t4)\n",
    "t5 = pairwise_tukeyhsd(visits['feb1-8'], visits['feb9-16'],  0.05)\n",
    "print(t5)\n",
    "t6 = pairwise_tukeyhsd(visits['feb9-16'], visits['feb17-24'],  0.05)\n",
    "print(t6)\n",
    "t7 = pairwise_tukeyhsd(visits['feb17-24'], visits['feb25-28'],  0.05)\n",
    "print(t7)"
   ]
  },
  {
   "cell_type": "markdown",
   "metadata": {},
   "source": [
    "We can see that all the all of the weeks reject the null hypothisis (they are all significantly different) This doesn't really mean much else but that there is big fluctuations week to week in check in's at the club."
   ]
  },
  {
   "cell_type": "markdown",
   "metadata": {},
   "source": [
    "# Getting the downward trending members"
   ]
  },
  {
   "cell_type": "markdown",
   "metadata": {},
   "source": [
    "Now that every week is prorated, duplicates are dropped and each week is tested for overall trends lets make a new data set and combine the counts back to two month chuncks."
   ]
  },
  {
   "cell_type": "code",
   "execution_count": 32,
   "metadata": {},
   "outputs": [],
   "source": [
    "ds = visits"
   ]
  },
  {
   "cell_type": "code",
   "execution_count": 33,
   "metadata": {},
   "outputs": [
    {
     "data": {
      "text/html": [
       "<div>\n",
       "<style scoped>\n",
       "    .dataframe tbody tr th:only-of-type {\n",
       "        vertical-align: middle;\n",
       "    }\n",
       "\n",
       "    .dataframe tbody tr th {\n",
       "        vertical-align: top;\n",
       "    }\n",
       "\n",
       "    .dataframe thead th {\n",
       "        text-align: right;\n",
       "    }\n",
       "</style>\n",
       "<table border=\"1\" class=\"dataframe\">\n",
       "  <thead>\n",
       "    <tr style=\"text-align: right;\">\n",
       "      <th></th>\n",
       "      <th>jan</th>\n",
       "      <th>feb</th>\n",
       "    </tr>\n",
       "  </thead>\n",
       "  <tbody>\n",
       "    <tr>\n",
       "      <th>A Leonard LaRocca</th>\n",
       "      <td>19.0</td>\n",
       "      <td>21.0</td>\n",
       "    </tr>\n",
       "    <tr>\n",
       "      <th>AJ Sites</th>\n",
       "      <td>2.0</td>\n",
       "      <td>1.0</td>\n",
       "    </tr>\n",
       "    <tr>\n",
       "      <th>Aakash Shah</th>\n",
       "      <td>3.0</td>\n",
       "      <td>20.0</td>\n",
       "    </tr>\n",
       "    <tr>\n",
       "      <th>Abigail Okupski</th>\n",
       "      <td>1.0</td>\n",
       "      <td>2.0</td>\n",
       "    </tr>\n",
       "    <tr>\n",
       "      <th>Abigale Prowker</th>\n",
       "      <td>0.0</td>\n",
       "      <td>1.0</td>\n",
       "    </tr>\n",
       "  </tbody>\n",
       "</table>\n",
       "</div>"
      ],
      "text/plain": [
       "                    jan   feb\n",
       "A Leonard LaRocca  19.0  21.0\n",
       "AJ Sites            2.0   1.0\n",
       "Aakash Shah         3.0  20.0\n",
       "Abigail Okupski     1.0   2.0\n",
       "Abigale Prowker     0.0   1.0"
      ]
     },
     "execution_count": 33,
     "metadata": {},
     "output_type": "execute_result"
    }
   ],
   "source": [
    "ds['jan'] = ds['jan1-8'] + ds['jan9-16'] + ds['jan17-24'] + ds['jan25-31']\n",
    "ds['feb'] = ds['feb1-8'] + ds['feb9-16'] + ds['feb17-24'] + ds['feb25-28']\n",
    "ds = ds[['jan', 'feb']]\n",
    "ds.head()"
   ]
  },
  {
   "cell_type": "code",
   "execution_count": 34,
   "metadata": {},
   "outputs": [
    {
     "name": "stderr",
     "output_type": "stream",
     "text": [
      "C:\\Users\\steph\\miniconda3\\lib\\site-packages\\ipykernel_launcher.py:1: SettingWithCopyWarning: \n",
      "A value is trying to be set on a copy of a slice from a DataFrame.\n",
      "Try using .loc[row_indexer,col_indexer] = value instead\n",
      "\n",
      "See the caveats in the documentation: https://pandas.pydata.org/pandas-docs/stable/user_guide/indexing.html#returning-a-view-versus-a-copy\n",
      "  \"\"\"Entry point for launching an IPython kernel.\n"
     ]
    },
    {
     "data": {
      "text/html": [
       "<div>\n",
       "<style scoped>\n",
       "    .dataframe tbody tr th:only-of-type {\n",
       "        vertical-align: middle;\n",
       "    }\n",
       "\n",
       "    .dataframe tbody tr th {\n",
       "        vertical-align: top;\n",
       "    }\n",
       "\n",
       "    .dataframe thead th {\n",
       "        text-align: right;\n",
       "    }\n",
       "</style>\n",
       "<table border=\"1\" class=\"dataframe\">\n",
       "  <thead>\n",
       "    <tr style=\"text-align: right;\">\n",
       "      <th></th>\n",
       "      <th>jan</th>\n",
       "      <th>feb</th>\n",
       "      <th>diff</th>\n",
       "    </tr>\n",
       "  </thead>\n",
       "  <tbody>\n",
       "    <tr>\n",
       "      <th>A Leonard LaRocca</th>\n",
       "      <td>19.0</td>\n",
       "      <td>21.0</td>\n",
       "      <td>-2.0</td>\n",
       "    </tr>\n",
       "    <tr>\n",
       "      <th>AJ Sites</th>\n",
       "      <td>2.0</td>\n",
       "      <td>1.0</td>\n",
       "      <td>1.0</td>\n",
       "    </tr>\n",
       "    <tr>\n",
       "      <th>Aakash Shah</th>\n",
       "      <td>3.0</td>\n",
       "      <td>20.0</td>\n",
       "      <td>-17.0</td>\n",
       "    </tr>\n",
       "    <tr>\n",
       "      <th>Abigail Okupski</th>\n",
       "      <td>1.0</td>\n",
       "      <td>2.0</td>\n",
       "      <td>-1.0</td>\n",
       "    </tr>\n",
       "    <tr>\n",
       "      <th>Abigale Prowker</th>\n",
       "      <td>0.0</td>\n",
       "      <td>1.0</td>\n",
       "      <td>-1.0</td>\n",
       "    </tr>\n",
       "  </tbody>\n",
       "</table>\n",
       "</div>"
      ],
      "text/plain": [
       "                    jan   feb  diff\n",
       "A Leonard LaRocca  19.0  21.0  -2.0\n",
       "AJ Sites            2.0   1.0   1.0\n",
       "Aakash Shah         3.0  20.0 -17.0\n",
       "Abigail Okupski     1.0   2.0  -1.0\n",
       "Abigale Prowker     0.0   1.0  -1.0"
      ]
     },
     "execution_count": 34,
     "metadata": {},
     "output_type": "execute_result"
    }
   ],
   "source": [
    "ds['diff'] = ds['jan'] - ds['feb']\n",
    "ds.head()"
   ]
  },
  {
   "cell_type": "code",
   "execution_count": 35,
   "metadata": {},
   "outputs": [
    {
     "name": "stdout",
     "output_type": "stream",
     "text": [
      "25\n"
     ]
    }
   ],
   "source": [
    "trend = ds.apply(lambda row: row['diff'] if (row['diff'] > 8) & (row['feb'] > 10) else 0, axis =1)\n",
    "trend1 = trend[trend > 0]\n",
    "trend1.head()\n",
    "print(len(trend1))"
   ]
  },
  {
   "cell_type": "markdown",
   "metadata": {},
   "source": [
    "We are going to target members that both are checking in less but are still relatively active. We used a lambda function above to accomplish this. With this a couple assumptions were made.\n",
    "\n",
    "1. trending less is defined as 8 less check ins per month\n",
    "\n",
    "2. relatively active is at least 10 check in's per month (a little over showing up twice a week)"
   ]
  },
  {
   "cell_type": "code",
   "execution_count": 36,
   "metadata": {},
   "outputs": [],
   "source": [
    "trend1.to_csv( r'C:\\Users\\steph\\OneDrive\\Desktop\\Coding\\Healthquest data\\archive\\target.csv')"
   ]
  },
  {
   "cell_type": "markdown",
   "metadata": {},
   "source": [
    "Now I'm confirming that the a couple of the targeted members actually have a lower trending check in"
   ]
  },
  {
   "cell_type": "code",
   "execution_count": 38,
   "metadata": {},
   "outputs": [
    {
     "name": "stdout",
     "output_type": "stream",
     "text": [
      "              Name  jan1-8  jan9-16  jan17-24  jan25-31  feb1-8  feb9-16  \\\n",
      "87  Alyssa Mahalow       6        6         6         6       3        4   \n",
      "\n",
      "    feb17-24  feb25-28  \n",
      "87         4         2  \n"
     ]
    }
   ],
   "source": [
    "frame = pd.read_csv('all.csv')\n",
    "print(frame[frame.Name == 'Alyssa Mahalow'])"
   ]
  },
  {
   "cell_type": "markdown",
   "metadata": {},
   "source": [
    "# Quick Aside: Lets chart and graph our categorical data (user group name, user group status)"
   ]
  },
  {
   "cell_type": "code",
   "execution_count": 39,
   "metadata": {},
   "outputs": [
    {
     "data": {
      "text/plain": [
       "Adult Membership                       0.116401\n",
       "Level 4 Family                         0.109275\n",
       "Family Membership                      0.104769\n",
       "Couple Membership                      0.068292\n",
       "Senior Individual                      0.065095\n",
       "Lifestyle - Family Rate                0.061975\n",
       "Youth Individual                       0.056120\n",
       "Senior Couple                          0.055119\n",
       "Young Professional Membership          0.050535\n",
       "Level 4 Adult Individual               0.047223\n",
       "Lifestyle - Adult Individual           0.040367\n",
       "Parent Child Couple                    0.033164\n",
       "Level 2 Family                         0.028080\n",
       "Hunterdon Healthcare Systems AI        0.025383\n",
       "Level 4 Couple                         0.020145\n",
       "Corporate Family                       0.017911\n",
       "Hunterdon Healthcare Systems Family    0.017410\n",
       "ADVANTA FAMILY                         0.014829\n",
       "Level 5 Family                         0.014791\n",
       "Comped Memberships                     0.011863\n",
       "Hunterdon Healthcare Systems Cpl       0.010901\n",
       "Corporate Couple                       0.007896\n",
       "Lifestyle - Couple                     0.006933\n",
       "Level 4 2 Youths                       0.005662\n",
       "*Paid in full 12 months                0.003659\n",
       "*Paid in Full 6 Months                 0.002041\n",
       "Senior Pool Only                       0.001810\n",
       "Sea Life LLC.                          0.001040\n",
       "Senior Walking Club                    0.000462\n",
       "Plus One Membership                    0.000462\n",
       "Prestige Wealth Management Adult       0.000385\n",
       "Name: User Group Name, dtype: float64"
      ]
     },
     "execution_count": 39,
     "metadata": {},
     "output_type": "execute_result"
    }
   ],
   "source": [
    "#fist I will chart the proportions of memberships we have per month\n",
    "jan['User Group Name'].value_counts(normalize = True).head(35)\n"
   ]
  },
  {
   "cell_type": "code",
   "execution_count": 40,
   "metadata": {},
   "outputs": [
    {
     "name": "stdout",
     "output_type": "stream",
     "text": [
      "This is the number of jan adult membership which is the max amount for this month 3022\n"
     ]
    }
   ],
   "source": [
    "c = jan['User Group Name'][jan['User Group Name'] == 'Adult Membership'].count()\n",
    "print('This is the number of jan adult membership which is the max amount for this month '+ str(c))"
   ]
  },
  {
   "cell_type": "code",
   "execution_count": 41,
   "metadata": {},
   "outputs": [
    {
     "data": {
      "text/plain": [
       "[Text(0, 0, 'Adult Membership'),\n",
       " Text(15, 0, 'Hunterdon Healthcare'),\n",
       " Text(30, 0, 'Prestige Wealth')]"
      ]
     },
     "execution_count": 41,
     "metadata": {},
     "output_type": "execute_result"
    },
    {
     "data": {
      "image/png": "[encoded data removed]",
      "text/plain": [
       "<Figure size 432x288 with 1 Axes>"
      ]
     },
     "metadata": {
      "needs_background": "light"
     },
     "output_type": "display_data"
    }
   ],
   "source": [
    "#Now I will graph this to visualize the differences\n",
    "ax = plt.subplot()\n",
    "sns.countplot(jan['User Group Name'], order = jan['User Group Name'].value_counts().index)\n",
    "ax.set_xticks([0, 15, 30])\n",
    "ax.set_xticklabels(['Adult Membership','Hunterdon Healthcare', 'Prestige Wealth'], rotation = 30)"
   ]
  },
  {
   "cell_type": "code",
   "execution_count": 42,
   "metadata": {},
   "outputs": [
    {
     "data": {
      "text/plain": [
       "Adult Membership                       0.120711\n",
       "Level 4 Family                         0.106571\n",
       "Family Membership                      0.105439\n",
       "Couple Membership                      0.070843\n",
       "Lifestyle - Family Rate                0.063443\n",
       "Youth Individual                       0.063396\n",
       "Senior Individual                      0.058918\n",
       "Young Professional Membership          0.054911\n",
       "Senior Couple                          0.053922\n",
       "Level 4 Adult Individual               0.049632\n",
       "Lifestyle - Adult Individual           0.036199\n",
       "Parent Child Couple                    0.034031\n",
       "Level 2 Family                         0.024604\n",
       "Hunterdon Healthcare Systems AI        0.023520\n",
       "Level 4 Couple                         0.018335\n",
       "Corporate Family                       0.018241\n",
       "Hunterdon Healthcare Systems Family    0.016261\n",
       "Level 5 Family                         0.014612\n",
       "ADVANTA FAMILY                         0.013999\n",
       "Hunterdon Healthcare Systems Cpl       0.011454\n",
       "Comped Memberships                     0.010699\n",
       "Corporate Couple                       0.008578\n",
       "Lifestyle - Couple                     0.006080\n",
       "Level 4 2 Youths                       0.005656\n",
       "*Paid in full 12 months                0.004195\n",
       "*Paid in Full 6 Months                 0.001650\n",
       "Senior Pool Only                       0.001225\n",
       "Plus One Membership                    0.000943\n",
       "Sea Life LLC.                          0.000848\n",
       "Prestige Wealth Management Adult       0.000566\n",
       "Senior Walking Club                    0.000518\n",
       "Name: User Group Name, dtype: float64"
      ]
     },
     "execution_count": 42,
     "metadata": {},
     "output_type": "execute_result"
    }
   ],
   "source": [
    "feb['User Group Name'].value_counts(normalize = True).head(31)"
   ]
  },
  {
   "cell_type": "code",
   "execution_count": 43,
   "metadata": {},
   "outputs": [
    {
     "name": "stdout",
     "output_type": "stream",
     "text": [
      " This is the number of feb adult memberships which is the max number membership 2561\n"
     ]
    }
   ],
   "source": [
    "b = feb['User Group Name'][feb['User Group Name'] == 'Adult Membership'].count()\n",
    "print(' This is the number of feb adult memberships which is the max number membership ' + str(b))"
   ]
  },
  {
   "cell_type": "code",
   "execution_count": 44,
   "metadata": {},
   "outputs": [
    {
     "data": {
      "text/plain": [
       "[Text(0, 0, 'Adult Membership'),\n",
       " Text(15, 0, 'Corporate family'),\n",
       " Text(30, 0, 'Senior Walk')]"
      ]
     },
     "execution_count": 44,
     "metadata": {},
     "output_type": "execute_result"
    },
    {
     "data": {
      "image/png": "[encoded data removed]",
      "text/plain": [
       "<Figure size 432x288 with 1 Axes>"
      ]
     },
     "metadata": {
      "needs_background": "light"
     },
     "output_type": "display_data"
    }
   ],
   "source": [
    "ax = plt.subplot()\n",
    "sns.countplot(feb['User Group Name'], order = feb['User Group Name'].value_counts().index)\n",
    "ax.set_xticks([0, 15, 30])\n",
    "ax.set_xticklabels(['Adult Membership','Corporate family', 'Senior Walk'], rotation = 30)\n"
   ]
  },
  {
   "cell_type": "markdown",
   "metadata": {},
   "source": [
    "# Conclusion"
   ]
  },
  {
   "cell_type": "markdown",
   "metadata": {},
   "source": [
    "In conclusion we see that there is 29 members that should be contacted due to a downward trend in checkin's. Using statistical analysis we see that week to week overall there is significant change in check in's both up and down, but this doesn't seem to give us any trend one way or another. "
   ]
  }
 ],
 "metadata": {
  "kernelspec": {
   "display_name": "Python 3",
   "language": "python",
   "name": "python3"
  },
  "language_info": {
   "codemirror_mode": {
    "name": "ipython",
    "version": 3
   },
   "file_extension": ".py",
   "mimetype": "text/x-python",
   "name": "python",
   "nbconvert_exporter": "python",
   "pygments_lexer": "ipython3",
   "version": "3.7.7"
  }
 },
 "nbformat": 4,
 "nbformat_minor": 4
}
